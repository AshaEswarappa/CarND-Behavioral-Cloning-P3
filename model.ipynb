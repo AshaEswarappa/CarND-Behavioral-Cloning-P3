{
 "cells": [
  {
   "cell_type": "code",
   "execution_count": 1,
   "metadata": {},
   "outputs": [
    {
     "name": "stderr",
     "output_type": "stream",
     "text": [
      "Using TensorFlow backend.\n"
     ]
    }
   ],
   "source": [
    "import pandas as pd\n",
    "import numpy as np\n",
    "from sklearn.utils import shuffle\n",
    "from sklearn.model_selection import train_test_split\n",
    "from keras.models import Sequential\n",
    "from keras.optimizers import Adam\n",
    "from keras.layers import Lambda, Conv2D, MaxPooling2D, Dropout, Dense, Flatten, Cropping2D\n",
    "import glob\n",
    "import os\n",
    "import cv2\n",
    "import matplotlib.image as mpimg\n",
    "import matplotlib.pyplot as plt"
   ]
  },
  {
   "cell_type": "code",
   "execution_count": 2,
   "metadata": {},
   "outputs": [],
   "source": [
    "#read the information from csv file\n",
    "data = pd.read_csv('merged_sim_data/combined_log.csv')"
   ]
  },
  {
   "cell_type": "code",
   "execution_count": 3,
   "metadata": {},
   "outputs": [],
   "source": [
    "#Get the values from the column names steering\n",
    "steering_center = data['steering'].values\n",
    "#Array declartion to store the corrected values for left and right steering\n",
    "steering_left_arr = []\n",
    "steering_right_arr = []\n",
    "\n",
    "for i in range(len(steering_center)):\n",
    "    \n",
    "    # create adjusted steering measurements for the side camera images\n",
    "    correction = 0.2 # this is a parameter to tune\n",
    "    \n",
    "    #Add the correction factor to left and right steering value\n",
    "    steering_left = steering_center[i] + correction\n",
    "    steering_right = steering_center[i] - correction\n",
    "    \n",
    "    #store the calculated the values of left and right steering in an array\n",
    "    steering_left_arr.append(steering_left)\n",
    "    steering_right_arr.append(steering_right)"
   ]
  },
  {
   "cell_type": "code",
   "execution_count": 4,
   "metadata": {},
   "outputs": [],
   "source": [
    "#Array to hold images\n",
    "images = []\n",
    "\n",
    "#Read the set of images present in the path specified\n",
    "test_images = glob.glob('merged_sim_data/IMG/*.jpg')\n",
    "for fname in test_images:\n",
    "    image = mpimg.imread(fname)\n",
    "    images.append(image)"
   ]
  },
  {
   "cell_type": "code",
   "execution_count": 5,
   "metadata": {},
   "outputs": [],
   "source": [
    "#set the training data as images and steering values\n",
    "X_train = np.asarray(images)\n",
    "\n",
    "#Merge the array of steering values for training the model\n",
    "Y_left_right = np.asarray(np.append(steering_left_arr, steering_right_arr))\n",
    "\n",
    "Y_train = np.append(steering_center, Y_left_right)"
   ]
  },
  {
   "cell_type": "code",
   "execution_count": 6,
   "metadata": {
    "scrolled": true
   },
   "outputs": [
    {
     "name": "stdout",
     "output_type": "stream",
     "text": [
      "WARNING:tensorflow:From C:\\Tools\\anaconda\\lib\\site-packages\\tensorflow_core\\python\\ops\\resource_variable_ops.py:1630: calling BaseResourceVariable.__init__ (from tensorflow.python.ops.resource_variable_ops) with constraint is deprecated and will be removed in a future version.\n",
      "Instructions for updating:\n",
      "If using Keras pass *_constraint arguments to layers.\n",
      "Training Model Starts\n",
      "WARNING:tensorflow:From C:\\Tools\\anaconda\\lib\\site-packages\\keras\\backend\\tensorflow_backend.py:422: The name tf.global_variables is deprecated. Please use tf.compat.v1.global_variables instead.\n",
      "\n",
      "Train on 13596 samples, validate on 3399 samples\n",
      "Epoch 1/30\n",
      "13596/13596 [==============================] - 159s 12ms/step - loss: 0.0663 - val_loss: 0.0558\n",
      "Epoch 2/30\n",
      "13596/13596 [==============================] - 152s 11ms/step - loss: 0.0598 - val_loss: 0.0523\n",
      "Epoch 3/30\n",
      "13596/13596 [==============================] - 149s 11ms/step - loss: 0.0587 - val_loss: 0.0521\n",
      "Epoch 4/30\n",
      "13596/13596 [==============================] - 151s 11ms/step - loss: 0.0569 - val_loss: 0.0517\n",
      "Epoch 5/30\n",
      "13596/13596 [==============================] - 150s 11ms/step - loss: 0.0568 - val_loss: 0.0509\n",
      "Epoch 6/30\n",
      "13596/13596 [==============================] - 152s 11ms/step - loss: 0.0554 - val_loss: 0.0520\n",
      "Epoch 7/30\n",
      "13596/13596 [==============================] - 153s 11ms/step - loss: 0.0558 - val_loss: 0.0516\n",
      "Epoch 8/30\n",
      "13596/13596 [==============================] - 152s 11ms/step - loss: 0.0546 - val_loss: 0.0510\n",
      "Epoch 9/30\n",
      "13596/13596 [==============================] - 152s 11ms/step - loss: 0.0550 - val_loss: 0.0503\n",
      "Epoch 10/30\n",
      "13596/13596 [==============================] - 152s 11ms/step - loss: 0.0538 - val_loss: 0.0502\n",
      "Epoch 11/30\n",
      "13596/13596 [==============================] - 152s 11ms/step - loss: 0.0535 - val_loss: 0.0510\n",
      "Epoch 12/30\n",
      "13596/13596 [==============================] - 151s 11ms/step - loss: 0.0526 - val_loss: 0.0484\n",
      "Epoch 13/30\n",
      "13596/13596 [==============================] - 155s 11ms/step - loss: 0.0526 - val_loss: 0.0468\n",
      "Epoch 14/30\n",
      "13596/13596 [==============================] - 153s 11ms/step - loss: 0.0515 - val_loss: 0.0484\n",
      "Epoch 15/30\n",
      "13596/13596 [==============================] - 152s 11ms/step - loss: 0.0508 - val_loss: 0.0456\n",
      "Epoch 16/30\n",
      "13596/13596 [==============================] - 152s 11ms/step - loss: 0.0503 - val_loss: 0.0463\n",
      "Epoch 17/30\n",
      "13596/13596 [==============================] - 152s 11ms/step - loss: 0.0506 - val_loss: 0.0447\n",
      "Epoch 18/30\n",
      "13596/13596 [==============================] - 152s 11ms/step - loss: 0.0503 - val_loss: 0.0437\n",
      "Epoch 19/30\n",
      "13596/13596 [==============================] - 151s 11ms/step - loss: 0.0495 - val_loss: 0.0423\n",
      "Epoch 20/30\n",
      "13596/13596 [==============================] - 152s 11ms/step - loss: 0.0490 - val_loss: 0.0446\n",
      "Epoch 21/30\n",
      "13596/13596 [==============================] - 152s 11ms/step - loss: 0.0484 - val_loss: 0.0440\n",
      "Epoch 22/30\n",
      "13596/13596 [==============================] - 151s 11ms/step - loss: 0.0472 - val_loss: 0.0451\n",
      "Epoch 23/30\n",
      "13596/13596 [==============================] - 151s 11ms/step - loss: 0.0477 - val_loss: 0.0418\n",
      "Epoch 24/30\n",
      "13596/13596 [==============================] - 151s 11ms/step - loss: 0.0469 - val_loss: 0.0405\n",
      "Epoch 25/30\n",
      "13596/13596 [==============================] - 152s 11ms/step - loss: 0.0462 - val_loss: 0.0411\n",
      "Epoch 26/30\n",
      "13596/13596 [==============================] - 153s 11ms/step - loss: 0.0472 - val_loss: 0.0460\n",
      "Epoch 27/30\n",
      "13596/13596 [==============================] - 151s 11ms/step - loss: 0.0461 - val_loss: 0.0399\n",
      "Epoch 28/30\n",
      "13596/13596 [==============================] - 152s 11ms/step - loss: 0.0451 - val_loss: 0.0405\n",
      "Epoch 29/30\n",
      "13596/13596 [==============================] - 152s 11ms/step - loss: 0.0455 - val_loss: 0.0417\n",
      "Epoch 30/30\n",
      "13596/13596 [==============================] - 159s 12ms/step - loss: 0.0456 - val_loss: 0.0409\n",
      "Model saved\n"
     ]
    }
   ],
   "source": [
    "#Sequentail keras model\n",
    "model = Sequential()\n",
    "\n",
    "#Crop the data to the size suggested in the course\n",
    "model.add(Cropping2D(cropping=((70, 25), (0,0)), input_shape=(160, 320, 3)))\n",
    "\n",
    "#Normalize the data\n",
    "model.add(Lambda(lambda x:x/255.0 - 0.5))\n",
    "          \n",
    "#1 layer\n",
    "model.add(Conv2D(24, (5, 5), activation = 'relu', strides=(2, 2)))\n",
    "#Dropout layer\n",
    "model.add(Dropout(0.3))\n",
    "#2 layer\n",
    "model.add(Conv2D(36, (5, 5), activation = 'relu', strides=(2, 2)))\n",
    "#Dropout layer\n",
    "model.add(Dropout(0.3))\n",
    "# 3 layer\n",
    "model.add(Conv2D(48, (5, 5), activation = 'relu', strides=(2, 2)))\n",
    "#Dropout layer\n",
    "model.add(Dropout(0.3))\n",
    "#4 layer\n",
    "model.add(Conv2D(64, (3, 3),  activation = 'relu'))\n",
    "#Dropout layer\n",
    "model.add(Dropout(0.3))\n",
    "#5 layer\n",
    "model.add(Conv2D(64, (3, 3),  activation = 'relu'))\n",
    "#Flatten layer\n",
    "model.add(Flatten())\n",
    "#Dropout layer\n",
    "model.add(Dropout(0.3))\n",
    "model.add(Dense(1162, activation='relu'))#fully connected layer\n",
    "#Dropout layer\n",
    "model.add(Dropout(0.3))\n",
    "model.add(Dense(100, activation='relu'))#fully connected layer\n",
    "#Dropout layer\n",
    "model.add(Dropout(0.3))\n",
    "model.add(Dense(50, activation='relu'))#fully connected layer\n",
    "#Dropout layer\n",
    "model.add(Dropout(0.3))\n",
    "model.add(Dense(10, activation='relu'))#fully connected layer\n",
    "#Dropout layer\n",
    "model.add(Dropout(0.3))\n",
    "model.add(Dense(1))\n",
    "#Shuffle the tarining data\n",
    "X_train, Y_train = shuffle(X_train, Y_train)\n",
    "\n",
    "print('Training Model Starts')\n",
    "\n",
    "#Adam optimizer and mean squared error is calculated\n",
    "model.compile(loss='mse',optimizer='adam')\n",
    "#split the data and train the model\n",
    "history_object = model.fit(X_train, Y_train, batch_size= 64, epochs= 30, validation_split= 0.2)\n",
    "\n",
    "model.save('model.h5')\n",
    "print('Model saved')"
   ]
  },
  {
   "cell_type": "code",
   "execution_count": 7,
   "metadata": {},
   "outputs": [
    {
     "data": {
      "image/png": "[encoded data removed]",
      "text/plain": [
       "<Figure size 432x288 with 1 Axes>"
      ]
     },
     "metadata": {
      "needs_background": "light"
     },
     "output_type": "display_data"
    }
   ],
   "source": [
    "plt.plot(history_object.history['loss'])\n",
    "plt.plot(history_object.history['val_loss'])\n",
    "plt.title('model mean squared error loss')\n",
    "plt.ylabel('mean squared error loss')\n",
    "plt.xlabel('epoch')\n",
    "plt.legend(['training set', 'validation set'], loc='upper right')\n",
    "plt.savefig('Output_images/Model_loss.jpg')\n",
    "plt.show()"
   ]
  }
 ],
 "metadata": {
  "kernelspec": {
   "display_name": "Python 3",
   "language": "python",
   "name": "python3"
  },
  "language_info": {
   "codemirror_mode": {
    "name": "ipython",
    "version": 3
   },
   "file_extension": ".py",
   "mimetype": "text/x-python",
   "name": "python",
   "nbconvert_exporter": "python",
   "pygments_lexer": "ipython3",
   "version": "3.7.4"
  }
 },
 "nbformat": 4,
 "nbformat_minor": 2
}
